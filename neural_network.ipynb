{
 "cells": [
  {
   "cell_type": "code",
   "execution_count": 2,
   "metadata": {},
   "outputs": [],
   "source": [
    "import numpy as np\n",
    "import matplotlib.pyplot as plt\n",
    "from torchvision import datasets"
   ]
  },
  {
   "cell_type": "code",
   "execution_count": 3,
   "metadata": {},
   "outputs": [],
   "source": [
    "class Flatten():\n",
    "    def forward(self, x):\n",
    "        self.x = x\n",
    "        self.batch_size = x.shape[0]\n",
    "        return x.reshape(self.batch_size, -1).T\n",
    "\n",
    "    def backward(self, gradient):\n",
    "        return gradient.T.reshape(self.x.shape)"
   ]
  },
  {
   "cell_type": "code",
   "execution_count": 4,
   "metadata": {},
   "outputs": [],
   "source": [
    "class Linear():\n",
    "    def __init__(self, in_size, out_size):\n",
    "        self.W = np.random.randn(in_size, out_size) * np.sqrt(2 / (in_size + 1))\n",
    "        self.b = np.zeros((out_size, 1))\n",
    "    \n",
    "    def forward(self, x):\n",
    "        self.x = x\n",
    "        self.s = np.dot(np.transpose(self.W), self.x) + self.b\n",
    "        return self.s\n",
    "\n",
    "    def backward(self, gradient):\n",
    "        self.dW = np.dot(self.x, np.transpose(gradient))\n",
    "        self.db = np.sum(gradient, axis=1, keepdims=True)\n",
    "        return np.dot(self.W, gradient)"
   ]
  },
  {
   "cell_type": "code",
   "execution_count": 5,
   "metadata": {},
   "outputs": [],
   "source": [
    "class ReLU():\n",
    "    def forward(self, s):\n",
    "        self.s = s\n",
    "        return np.maximum(0, s)\n",
    "    \n",
    "    def backward(self, gradient):\n",
    "        return gradient * (self.s > 0).astype(float)"
   ]
  },
  {
   "cell_type": "code",
   "execution_count": 6,
   "metadata": {},
   "outputs": [],
   "source": [
    "class Softmax():    \n",
    "    def forward(self, s):\n",
    "        e_s = np.exp(s - np.max(s, axis=0, keepdims=True))\n",
    "        self.output = e_s / e_s.sum(axis=0, keepdims=True)\n",
    "        return self.output\n",
    "    \n",
    "    def backward(self, gradient):\n",
    "        return gradient"
   ]
  },
  {
   "cell_type": "code",
   "execution_count": 7,
   "metadata": {},
   "outputs": [],
   "source": [
    "class CrossEntropyLoss():\n",
    "    def forward(self, x_L, y):\n",
    "        epsilon = 1e-12\n",
    "        x_L = np.clip(x_L, epsilon, 1 - epsilon)\n",
    "        self.x_L = x_L\n",
    "        self.y = y\n",
    "        self.N = x_L.shape[1]\n",
    "        return -np.sum(y * np.log(x_L)) / self.N\n",
    "\n",
    "    def backward(self):\n",
    "        return (self.x_L - self.y) / self.N"
   ]
  },
  {
   "cell_type": "code",
   "execution_count": 8,
   "metadata": {},
   "outputs": [],
   "source": [
    "class Optimizer:\n",
    "    def update(self, dW, db, layer):\n",
    "        raise NotImplementedError('Error')"
   ]
  },
  {
   "cell_type": "code",
   "execution_count": 9,
   "metadata": {},
   "outputs": [],
   "source": [
    "class BasicOptimizer(Optimizer):\n",
    "    def __init__(self, lr=1e-3):\n",
    "        self.lr = lr\n",
    "\n",
    "    def update(self, dW, db, layer):\n",
    "        layer.W -= self.lr * dW\n",
    "        layer.b -= self.lr * db"
   ]
  },
  {
   "cell_type": "code",
   "execution_count": 10,
   "metadata": {},
   "outputs": [],
   "source": [
    "class MomentumOptimizer(Optimizer):\n",
    "    def __init__(self, lr=1e-2, momentum=0.9):\n",
    "        self.lr = lr\n",
    "        self.momentum = momentum\n",
    "        self.velocity = {}\n",
    "\n",
    "    def update(self, dW, db, layer):\n",
    "        if layer not in self.velocity:\n",
    "            self.velocity[layer] = {\"W\": np.zeros_like(layer.W), \"b\": np.zeros_like(layer.b)}\n",
    "\n",
    "        self.velocity[layer][\"W\"] = self.momentum * self.velocity[layer][\"W\"] - self.lr * dW\n",
    "        self.velocity[layer][\"b\"] = self.momentum * self.velocity[layer][\"b\"] - self.lr * db\n",
    "\n",
    "        layer.W += self.velocity[layer][\"W\"]\n",
    "        layer.b += self.velocity[layer][\"b\"]"
   ]
  },
  {
   "cell_type": "code",
   "execution_count": 11,
   "metadata": {},
   "outputs": [],
   "source": [
    "class AdamOptimizer():\n",
    "    def __init__(self, lr=1e-3, beta1=0.9, beta2=0.999, epsilon=1e-8):\n",
    "        self.lr = lr\n",
    "        self.beta1 = beta1\n",
    "        self.beta2 = beta2\n",
    "        self.epsilon = epsilon\n",
    "        self.m = {}\n",
    "        self.v = {}\n",
    "        self.t = 0\n",
    "\n",
    "    def update(self, dW, db, layer):\n",
    "        if layer not in self.m:\n",
    "            self.m[layer] = {\"W\": np.zeros_like(layer.W), \"b\": np.zeros_like(layer.b)}\n",
    "            self.v[layer] = {\"W\": np.zeros_like(layer.W), \"b\": np.zeros_like(layer.b)}\n",
    "\n",
    "        self.t += 1\n",
    "        \n",
    "        self.m[layer][\"W\"] = self.beta1 * self.m[layer][\"W\"] + (1 - self.beta1) * dW\n",
    "        self.m[layer][\"b\"] = self.beta1 * self.m[layer][\"b\"] + (1 - self.beta1) * db\n",
    "        \n",
    "        self.v[layer][\"W\"] = self.beta2 * self.v[layer][\"W\"] + (1 - self.beta2) * (dW ** 2)\n",
    "        self.v[layer][\"b\"] = self.beta2 * self.v[layer][\"b\"] + (1 - self.beta2) * (db ** 2)\n",
    "\n",
    "        m_hat_W = self.m[layer][\"W\"] / (1 - self.beta1 ** self.t)\n",
    "        m_hat_b = self.m[layer][\"b\"] / (1 - self.beta1 ** self.t)\n",
    "        \n",
    "        v_hat_W = self.v[layer][\"W\"] / (1 - self.beta2 ** self.t)\n",
    "        v_hat_b = self.v[layer][\"b\"] / (1 - self.beta2 ** self.t)\n",
    "        \n",
    "        layer.W -= self.lr * (m_hat_W / (np.sqrt(v_hat_W) + self.epsilon))\n",
    "        layer.b -= self.lr * (m_hat_b / (np.sqrt(v_hat_b) + self.epsilon))"
   ]
  },
  {
   "cell_type": "code",
   "execution_count": 12,
   "metadata": {},
   "outputs": [],
   "source": [
    "class NN():\n",
    "    def __init__(self):\n",
    "        self.layers = []\n",
    "    \n",
    "    def add(self, layer):\n",
    "        self.layers.append(layer)\n",
    "\n",
    "    def sequential(self, *layers):\n",
    "        self.layers.extend(layers)\n",
    "\n",
    "    def forward(self, x):\n",
    "        for layer in self.layers:\n",
    "            x = layer.forward(x)\n",
    "        \n",
    "        return x\n",
    "    \n",
    "    def backward(self, loss_grad):\n",
    "        gradients = []\n",
    "        for layer in reversed(self.layers):\n",
    "            if isinstance(layer, Linear):\n",
    "                loss_grad = layer.backward(loss_grad)\n",
    "                gradients.append((layer.dW, layer.db, layer))\n",
    "            else:\n",
    "                loss_grad = layer.backward(loss_grad)\n",
    "\n",
    "        return gradients\n",
    "    \n",
    "    def update_weights(self, gradients, optimizer):\n",
    "        for dW, db, layer in gradients:\n",
    "            optimizer.update(dW, db, layer)\n",
    "    \n",
    "    def train(self, x, y, optimizer, loss_fn):\n",
    "        output = self.forward(x)\n",
    "        loss = loss_fn.forward(output, y)\n",
    "        loss_grad = loss_fn.backward()\n",
    "        gradients = self.backward(loss_grad)\n",
    "        self.update_weights(gradients, optimizer)\n",
    "\n",
    "        return loss"
   ]
  },
  {
   "cell_type": "code",
   "execution_count": 13,
   "metadata": {},
   "outputs": [],
   "source": [
    "def getDataset():\n",
    "    train_dataset = datasets.MNIST(root='./data', train=True, download=True)\n",
    "    test_dataset = datasets.MNIST(root='./data', train=False, download=True)\n",
    "\n",
    "    x_train = train_dataset.data.numpy() / 255.0\n",
    "    y_train = train_dataset.targets.numpy()\n",
    "\n",
    "    x_test = test_dataset.data.numpy() / 255.0\n",
    "    y_test = test_dataset.targets.numpy()\n",
    "\n",
    "    return x_train, y_train, x_test, y_test"
   ]
  },
  {
   "cell_type": "code",
   "execution_count": 14,
   "metadata": {},
   "outputs": [],
   "source": [
    "def testAccuracy(model, x_test, y_test, batch_size):\n",
    "    corr = 0\n",
    "    total = len(x_test)\n",
    "\n",
    "    perm = np.random.permutation(total)\n",
    "    x_test = x_test[perm]\n",
    "    y_test = y_test[perm]\n",
    "\n",
    "    for n in range(0, total, batch_size):\n",
    "        x_batch = x_test[n: n + batch_size]\n",
    "        y_batch = y_test[n: n + batch_size]\n",
    "        \n",
    "        preds = model.forward(x_batch)\n",
    "        preds = np.argmax(preds, axis=0)\n",
    "\n",
    "        corr += np.sum(preds == y_batch)\n",
    "\n",
    "    print(f'Accuracy: {round(corr / total * 100, 2)}%')\n"
   ]
  },
  {
   "cell_type": "code",
   "execution_count": 15,
   "metadata": {},
   "outputs": [],
   "source": [
    "def one_hot_encode(y, num_classes):\n",
    "    one_hot = np.zeros((y.size, num_classes))\n",
    "    one_hot[np.arange(y.size), y] = 1\n",
    "    return one_hot.T"
   ]
  },
  {
   "cell_type": "code",
   "execution_count": 16,
   "metadata": {},
   "outputs": [],
   "source": [
    "def plotLoss(err):\n",
    "    plt.plot(err, linewidth = 2.0)\n",
    "    plt.xlabel('Epochs')\n",
    "    plt.ylabel('Error')\n",
    "    plt.show()"
   ]
  },
  {
   "cell_type": "code",
   "execution_count": 17,
   "metadata": {},
   "outputs": [],
   "source": [
    "def train(model, x_train, y_train, epochs, batch_size, output_size, loss_fn, optimizer):\n",
    "    N = x_train.shape[0]\n",
    "    err = []\n",
    "\n",
    "    for epoch in range(epochs):\n",
    "        total_loss = 0\n",
    "        perm = np.random.permutation(N)\n",
    "        x_train = x_train[perm]\n",
    "        y_train = y_train[perm]\n",
    "\n",
    "        for n in range(0, N):\n",
    "            x_batch = x_train[n: n + batch_size]\n",
    "            y_batch = one_hot_encode(y_train[n: n + batch_size], output_size)\n",
    "\n",
    "            loss = model.train(x_batch, y_batch, optimizer, loss_fn)\n",
    "\n",
    "            total_loss += loss\n",
    "        print(f\"Epoch {epoch + 1}/{epochs}, Loss: {total_loss / N}\")\n",
    "        err.append(total_loss)\n",
    "\n",
    "    return err"
   ]
  },
  {
   "cell_type": "code",
   "execution_count": 21,
   "metadata": {},
   "outputs": [
    {
     "name": "stdout",
     "output_type": "stream",
     "text": [
      "Epoch 1/10, Loss: 0.09719052817523968\n",
      "Epoch 2/10, Loss: 0.034820538783565634\n",
      "Epoch 3/10, Loss: 0.02340276478401961\n",
      "Epoch 4/10, Loss: 0.016448090091709923\n",
      "Epoch 5/10, Loss: 0.012406123854008968\n",
      "Epoch 6/10, Loss: 0.009239929242177019\n",
      "Epoch 7/10, Loss: 0.007463248409003233\n",
      "Epoch 8/10, Loss: 0.005911469936650948\n",
      "Epoch 9/10, Loss: 0.0041024604791015115\n",
      "Epoch 10/10, Loss: 0.003664587886146685\n"
     ]
    },
    {
     "data": {
      "image/png": "[encoded data removed]",
      "text/plain": [
       "<Figure size 640x480 with 1 Axes>"
      ]
     },
     "metadata": {},
     "output_type": "display_data"
    },
    {
     "name": "stdout",
     "output_type": "stream",
     "text": [
      "Accuracy: 97.66%\n"
     ]
    }
   ],
   "source": [
    "x_train, y_train, x_test, y_test = getDataset()\n",
    "\n",
    "lr = 1e-2\n",
    "epochs = 10\n",
    "batch_size = 4\n",
    "\n",
    "N = x_train.shape[0]\n",
    "input_size = x_train.shape[1] * x_train.shape[2]\n",
    "hidden_size1 = 128\n",
    "hidden_size2 = 32\n",
    "output_size = 10\n",
    "\n",
    "loss_fn = CrossEntropyLoss()\n",
    "optimizer = BasicOptimizer(lr=lr)\n",
    "\n",
    "model = NN()\n",
    "model.sequential(\n",
    "    Flatten(),\n",
    "    Linear(input_size, hidden_size1),\n",
    "    ReLU(),\n",
    "    Linear(hidden_size1, hidden_size2),\n",
    "    ReLU(),\n",
    "    Linear(hidden_size2, output_size),\n",
    "    Softmax()\n",
    ")\n",
    "\n",
    "loss = train(model, x_train, y_train, epochs, batch_size, output_size, loss_fn, optimizer)\n",
    "plotLoss(loss)\n",
    "testAccuracy(model, x_test, y_test, batch_size)"
   ]
  }
 ],
 "metadata": {
  "kernelspec": {
   "display_name": "Python 3.11 (torch)",
   "language": "python",
   "name": "pytorch"
  },
  "language_info": {
   "codemirror_mode": {
    "name": "ipython",
    "version": 3
   },
   "file_extension": ".py",
   "mimetype": "text/x-python",
   "name": "python",
   "nbconvert_exporter": "python",
   "pygments_lexer": "ipython3",
   "version": "3.11.8"
  }
 },
 "nbformat": 4,
 "nbformat_minor": 2
}
